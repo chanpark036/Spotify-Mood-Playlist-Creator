{
 "cells": [
  {
   "cell_type": "code",
   "execution_count": 38,
   "id": "6b12068e",
   "metadata": {},
   "outputs": [],
   "source": [
    "import requests\n",
    "import datetime\n",
    "import base64"
   ]
  },
  {
   "cell_type": "code",
   "execution_count": 39,
   "id": "ba2ef923",
   "metadata": {},
   "outputs": [],
   "source": [
    "client_id = '319b6a63249d40e6850854000f19d265'\n",
    "client_secret = '7b568c81329a408eaa7db420be7b9047'"
   ]
  },
  {
   "cell_type": "code",
   "execution_count": 49,
   "id": "a93aa7c7",
   "metadata": {},
   "outputs": [],
   "source": [
    "class SpotifyAPI(object):\n",
    "    access_token = None\n",
    "    access_token_expires = datetime.datetime.now()\n",
    "    access_token_did_expire = True\n",
    "    client_id = None\n",
    "    client_secret = None\n",
    "    token_url = \"https://accounts.spotify.com/api/token\"\n",
    "    \n",
    "    def __init__(self, client_id, client_secret, *args, **kwargs):\n",
    "        super().__init__(*args,**kwargs)\n",
    "        self.client_id = client_id\n",
    "        self.client_secret = client_secret\n",
    "    \n",
    "    def get_client_credentials(self):\n",
    "        client_id = self.client_id\n",
    "        client_secret = self.client_secret\n",
    "        if client_id == None or client_secret == None:\n",
    "            raise Exception(\"set client id and secret\")\n",
    "        client_creds = f\"{client_id}:{client_secret}\"\n",
    "        client_creds_b64 = base64.b64encode(client_creds.encode())\n",
    "        return client_creds_b64.decode()\n",
    "        \n",
    "    \n",
    "    def get_token_header(self):\n",
    "        return {\n",
    "            \"Authorization\": f\"Basic {self.get_client_credentials()}\"\n",
    "        }\n",
    "        \n",
    "    def get_token_data(self):\n",
    "        return {\n",
    "            \"grant_type\": \"client_credentials\"\n",
    "        }\n",
    "\n",
    "    def perform_auth(self):\n",
    "        token_url = self.token_url\n",
    "        token_data = self.get_token_data()\n",
    "        token_header = self.get_token_header()\n",
    "        r = requests.post(token_url, data=token_data, headers=token_header)\n",
    "        if r.status_code not in range(200,299):\n",
    "            return False\n",
    "        data = r.json()\n",
    "        now = datetime.datetime.now()\n",
    "        access_token = data[\"access_token\"]\n",
    "        expires_in = data[\"expires_in\"]\n",
    "        expires = now + datetime.timedelta(seconds=expires_in)\n",
    "        self.access_token = access_token\n",
    "        self.access_token_expires = expires\n",
    "        self.access_token_did_expire = expires < now\n",
    "        return True\n",
    "        "
   ]
  },
  {
   "cell_type": "code",
   "execution_count": 51,
   "id": "1b7587d0",
   "metadata": {},
   "outputs": [],
   "source": [
    "client = SpotifyAPI(client_id,client_secret)\n",
    "client.perform_auth()\n",
    "access_token = client.access_token"
   ]
  },
  {
   "cell_type": "code",
   "execution_count": null,
   "id": "99ed33ea",
   "metadata": {},
   "outputs": [],
   "source": []
  }
 ],
 "metadata": {
  "kernelspec": {
   "display_name": "Python 3 (ipykernel)",
   "language": "python",
   "name": "python3"
  },
  "language_info": {
   "codemirror_mode": {
    "name": "ipython",
    "version": 3
   },
   "file_extension": ".py",
   "mimetype": "text/x-python",
   "name": "python",
   "nbconvert_exporter": "python",
   "pygments_lexer": "ipython3",
   "version": "3.9.7"
  }
 },
 "nbformat": 4,
 "nbformat_minor": 5
}
