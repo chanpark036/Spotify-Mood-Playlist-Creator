{
 "cells": [
  {
   "cell_type": "code",
   "execution_count": 1,
   "id": "6b12068e",
   "metadata": {},
   "outputs": [],
   "source": [
    "import requests\n",
    "import datetime\n",
    "import base64\n",
    "import json\n",
    "import pandas as pd\n",
    "from urllib.parse import urlencode"
   ]
  },
  {
   "cell_type": "code",
   "execution_count": 2,
   "id": "ba2ef923",
   "metadata": {},
   "outputs": [],
   "source": [
    "client_id = '319b6a63249d40e6850854000f19d265'\n",
    "client_secret = '7b568c81329a408eaa7db420be7b9047'\n",
    "redirect_uri = 'https://www.linkedin.com/in/chan-park-036/'\n",
    "#redirect_uri = 'https%3A%2F%2Fwww.linkedin.com%2Fin%2Fchan-park-036%2F'"
   ]
  },
  {
   "cell_type": "code",
   "execution_count": 3,
   "id": "a93aa7c7",
   "metadata": {},
   "outputs": [],
   "source": [
    "class SpotifyAPI(object):\n",
    "    access_token = None\n",
    "    access_token_expires = datetime.datetime.now()\n",
    "    access_token_did_expire = True\n",
    "    client_id = None\n",
    "    client_secret = None\n",
    "    redirect_uri = \"\"\n",
    "    token_url = \"https://accounts.spotify.com/api/token\"\n",
    "    \n",
    "    def __init__(self, client_id, client_secret, redirect_uri, *args, **kwargs):\n",
    "        super().__init__(*args,**kwargs)\n",
    "        self.client_id = client_id\n",
    "        self.client_secret = client_secret\n",
    "        self.redirect_uri = redirect_uri\n",
    "    \n",
    "    def request_user_auth(self):\n",
    "        #url = f\"https://accounts.spotify.com/authorize?client_id={client_id}&response_type=code&redirect_uri={redirect_uri}&scope=playlist-modify-public%20playlist-modify-private\"\n",
    "        #https://accounts.spotify.com/authorize?client_id=319b6a63249d40e6850854000f19d265&response_type=code&redirect_uri=https://www.linkedin.com/in/chan-park-036/&scope=playlist-modify-public%20playlist-modify-private\n",
    "        auth_url = 'https://accounts.spotify.com/authorize'\n",
    "        auth_code = requests.get(auth_url, {\n",
    "            'client_id': self.client_id,\n",
    "            'redirect_uri': self.redirect_uri,\n",
    "            'response_type': \"code\",\n",
    "            'scope': 'playlist-modify-private playlist-modify-public',\n",
    "        })\n",
    "        print(auth_code.url)\n",
    "        return 'AQBSNVSIgLkrgmTF7199ljyriGTse3ouDe7sb3JXJmZqWOLJc_lUv8WNZA-9qkVNNkS0dE74EI_UMn6fM5tvM7lEgBRI-yQSYfomf_aFalLspOsAOunapxx1xrGIis8yhGRH-iJELTO--xopYZIObH8Rzxqui-H2CAlGtyg8hZf0Nks87RS0FCKSjUb1Ufz7l_xnulpLt3Bmi9Aykbp4f7Re9zw7FlX2FjsFlLWtH1IOOdQNfBTwlq88RgW9ekQ'\n",
    "        \n",
    "        \n",
    "    def get_client_credentials(self):\n",
    "        client_id = self.client_id\n",
    "        client_secret = self.client_secret\n",
    "        if client_id == None or client_secret == None:\n",
    "            raise Exception(\"set client id and secret\")\n",
    "        client_creds = f\"{client_id}:{client_secret}\"\n",
    "        client_creds_b64 = base64.b64encode(client_creds.encode())\n",
    "        return client_creds_b64.decode()\n",
    "        \n",
    "    \n",
    "    def get_token_header(self):\n",
    "        return {\n",
    "            \"Authorization\": f\"Basic {self.get_client_credentials()}\",\n",
    "            \"Content-Type\":'application/x-www-form-urlencoded'\n",
    "        }\n",
    "        \n",
    "    def get_token_data(self):\n",
    "        return {\n",
    "            \"grant_type\": \"authorization_code\",\n",
    "            \"code\": f\"{self.request_user_auth()}\",\n",
    "            \"redirect_uri\": f\"{self.redirect_uri}\",\n",
    "        }\n",
    "\n",
    "    def perform_auth(self):\n",
    "        token_url = self.token_url\n",
    "        token_data = self.get_token_data()\n",
    "        print(token_data)\n",
    "        token_header = self.get_token_header()\n",
    "        r = requests.post(token_url, data=token_data, headers=token_header)\n",
    "        print(r)\n",
    "        if r.status_code not in range(200,299):\n",
    "            return False\n",
    "        data = r.json()\n",
    "        now = datetime.datetime.now()\n",
    "        access_token = data[\"access_token\"]\n",
    "        expires_in = data[\"expires_in\"]\n",
    "        expires = now + datetime.timedelta(seconds=expires_in)\n",
    "        self.access_token = access_token\n",
    "        self.access_token_expires = expires\n",
    "        self.access_token_did_expire = expires < now\n",
    "        return True\n",
    "        "
   ]
  },
  {
   "cell_type": "code",
   "execution_count": 4,
   "id": "coordinate-enhancement",
   "metadata": {},
   "outputs": [
    {
     "name": "stdout",
     "output_type": "stream",
     "text": [
      "https://accounts.spotify.com/en/login?continue=https%3A%2F%2Faccounts.spotify.com%2Fauthorize%3Fscope%3Dplaylist-modify-private%2Bplaylist-modify-public%26response_type%3Dcode%26redirect_uri%3Dhttps%253A%252F%252Fwww.linkedin.com%252Fin%252Fchan-park-036%252F%26client_id%3D319b6a63249d40e6850854000f19d265\n"
     ]
    },
    {
     "data": {
      "text/plain": [
       "'AQBSNVSIgLkrgmTF7199ljyriGTse3ouDe7sb3JXJmZqWOLJc_lUv8WNZA-9qkVNNkS0dE74EI_UMn6fM5tvM7lEgBRI-yQSYfomf_aFalLspOsAOunapxx1xrGIis8yhGRH-iJELTO--xopYZIObH8Rzxqui-H2CAlGtyg8hZf0Nks87RS0FCKSjUb1Ufz7l_xnulpLt3Bmi9Aykbp4f7Re9zw7FlX2FjsFlLWtH1IOOdQNfBTwlq88RgW9ekQ'"
      ]
     },
     "execution_count": 4,
     "metadata": {},
     "output_type": "execute_result"
    }
   ],
   "source": [
    "#check authorization code\n",
    "client = SpotifyAPI(client_id,client_secret, redirect_uri)\n",
    "client.request_user_auth()"
   ]
  },
  {
   "cell_type": "code",
   "execution_count": 5,
   "id": "1b7587d0",
   "metadata": {
    "scrolled": true
   },
   "outputs": [
    {
     "name": "stdout",
     "output_type": "stream",
     "text": [
      "https://accounts.spotify.com/en/login?continue=https%3A%2F%2Faccounts.spotify.com%2Fauthorize%3Fscope%3Dplaylist-modify-private%2Bplaylist-modify-public%26response_type%3Dcode%26redirect_uri%3Dhttps%253A%252F%252Fwww.linkedin.com%252Fin%252Fchan-park-036%252F%26client_id%3D319b6a63249d40e6850854000f19d265\n",
      "{'grant_type': 'authorization_code', 'code': 'AQBSNVSIgLkrgmTF7199ljyriGTse3ouDe7sb3JXJmZqWOLJc_lUv8WNZA-9qkVNNkS0dE74EI_UMn6fM5tvM7lEgBRI-yQSYfomf_aFalLspOsAOunapxx1xrGIis8yhGRH-iJELTO--xopYZIObH8Rzxqui-H2CAlGtyg8hZf0Nks87RS0FCKSjUb1Ufz7l_xnulpLt3Bmi9Aykbp4f7Re9zw7FlX2FjsFlLWtH1IOOdQNfBTwlq88RgW9ekQ', 'redirect_uri': 'https://www.linkedin.com/in/chan-park-036/'}\n",
      "<Response [200]>\n"
     ]
    }
   ],
   "source": [
    "#perform authentication and get token\n",
    "client = SpotifyAPI(client_id,client_secret, redirect_uri)\n",
    "client.perform_auth()\n",
    "access_token = client.access_token"
   ]
  },
  {
   "cell_type": "code",
   "execution_count": 6,
   "id": "99ed33ea",
   "metadata": {},
   "outputs": [],
   "source": [
    "#search example\n",
    "headers = {\n",
    "    \"Authorization\": f\"Bearer {access_token}\"\n",
    "}\n",
    "search_endpoint = \"https://api.spotify.com/v1/search\"\n",
    "data = urlencode({\"q\":\"Entropy\", \"type\": \"track\"})\n",
    "lookup_url = f\"{search_endpoint}?{data}\"\n",
    "r = requests.get(lookup_url,headers=headers)\n"
   ]
  },
  {
   "cell_type": "code",
   "execution_count": 7,
   "id": "conscious-decade",
   "metadata": {},
   "outputs": [
    {
     "name": "stdout",
     "output_type": "stream",
     "text": [
      "\"Rawnald Gregory Erickson the Second\" by STRFKR\n",
      "\"Fidelity\" by Regina Spektor\n",
      "\"Where I'm From\" by Digable Planets\n",
      "\"Summer Days\" by Rhye\n",
      "\"Wraith Pinned to the Mist and Other Games\" by of Montreal\n",
      "\"Pretty Girl\" by Clairo\n",
      "\"This Must Be the Place (Naive Melody) - 2005 Remaster\" by Talking Heads\n",
      "\"FACE\" by BROCKHAMPTON\n",
      "\"anemone\" by slenderbodies\n",
      "\"South of the River\" by Tom Misch\n"
     ]
    }
   ],
   "source": [
    "#get spotify recommendations\n",
    "rec_endpoint = \"https://api.spotify.com/v1/recommendations?\"\n",
    "\n",
    "limit=10\n",
    "market=\"US\"\n",
    "seed_genres=\"indie\"\n",
    "target_danceability=0.9\n",
    "query = f'{rec_endpoint}limit={limit}&market={market}&seed_genres={seed_genres}&target_danceability={target_danceability}'\n",
    "response =requests.get(query, \n",
    "               headers={\"Content-Type\":\"application/json\", \n",
    "                        \"Authorization\": f\"Bearer {access_token}\"})\n",
    "json_response = response.json()\n",
    "uris = []\n",
    "for i in json_response['tracks']:\n",
    "            uris.append(i['uri'])\n",
    "            print(f\"\\\"{i['name']}\\\" by {i['artists'][0]['name']}\")\n"
   ]
  },
  {
   "cell_type": "code",
   "execution_count": 8,
   "id": "distinct-diameter",
   "metadata": {},
   "outputs": [
    {
     "name": "stdout",
     "output_type": "stream",
     "text": [
      "\"dumbertime\" and 0g1jZVZ8VNcxeF7g0yjFn8\n",
      "\"neverending\" and 2fRFWEkmtpMfvjqMvkFrdc\n",
      "\"painkillers for work\" and 7x1ZKrx9eJ4VGrj7JN9eIs\n",
      "\"covid therapy\" and 7C64t0Ms6Vm0Z9xRUieTbe\n",
      "\"late\" and 79IZw6BE8CnGLj345QUsaw\n",
      "\"chill k\" and 0DE2Bl1yjFgtcJ7csm0DPV\n",
      "\"초롱\" and 6Rlgzs2NSzL0QdqjViE4Mg\n",
      "\"still\" and 5VzN0DravpnKrHu8s6AAUa\n",
      "\"soft\" and 2Fp1SgXkBKC6jb6z9TA4Od\n",
      "\"chill\" and 26IeIVee8N4KBJvtA1rV88\n"
     ]
    }
   ],
   "source": [
    "#find my 10 most recently created playlists\n",
    "\n",
    "limit = 10\n",
    "offset = 0\n",
    "user_id = \"e0fu1tvd4el2atkqmvlc2m6br\"\n",
    "curr_user_playlist_endpoint = f\"https://api.spotify.com/v1/users/{user_id}/playlists?\"\n",
    "query = f'{curr_user_playlist_endpoint}user_id={user_id}'\n",
    "response =requests.get(query, \n",
    "               headers={\"Content-Type\":\"application/json\", \n",
    "                        \"Authorization\": f\"Bearer {access_token}\"})\n",
    "json_response = response.json()\n",
    "playlist_ids = []\n",
    "for i in json_response[\"items\"]:\n",
    "        print(f\"\\\"{i['name']}\\\" and {i['id']}\")\n",
    "        playlist_ids.append(i['id'])"
   ]
  },
  {
   "cell_type": "code",
   "execution_count": null,
   "id": "irish-efficiency",
   "metadata": {},
   "outputs": [],
   "source": [
    "#get items from 4 most recent playlists\n",
    "playlist_ids = playlist_ids[:4]\n",
    "print(playlist_ids)\n",
    "p_ids = []\n",
    "p_dic = {}\n",
    "for playlist_id in playlist_ids:\n",
    "    get_playlist_item_endpoint = f\"https://api.spotify.com/v1/playlists/{playlist_id}/tracks\"\n",
    "    query = f'{get_playlist_item_endpoint}'\n",
    "    response =requests.get(query, \n",
    "                   headers={\"Content-Type\":\"application/json\", \n",
    "                            \"Authorization\": f\"Bearer {access_token}\"})\n",
    "    #print(response.json())\n",
    "    for i in response.json()[\"items\"]:\n",
    "        p_dic[i['track']['id']] = i['track']['uri']\n",
    "p_dic_list = list(p_dic.keys())\n",
    "\n",
    "\n",
    "    "
   ]
  },
  {
   "cell_type": "code",
   "execution_count": null,
   "id": "liberal-addiction",
   "metadata": {},
   "outputs": [],
   "source": [
    "#create a dataframe using each track's id's and uri's\n",
    "p_count_l = 1\n",
    "p_count_r = 1\n",
    "\n",
    "#initial df\n",
    "get_track_info_endpoint = f\"https://api.spotify.com/v1/audio-features?ids={p_dic_list[0]}\"\n",
    "response =requests.get(get_track_info_endpoint, \n",
    "                   headers={\"Content-Type\":\"application/json\", \n",
    "                            \"Authorization\": f\"Bearer {access_token}\"})\n",
    "df = pd.DataFrame(response.json()['audio_features'],columns=('id','uri','acousticness','danceability',\\\n",
    "                                                             'energy','instrumentalness','duration_ms','key','liveness','loudness','mode',\\\n",
    "                                                             'speechiness','tempo','time_signature'))\n",
    "#append by every 99\n",
    "while p_count_r <= len(p_dic_list):\n",
    "    p_count_r += 99\n",
    "    x = \",\".join(p_dic_list[p_count_l:p_count_r])\n",
    "    get_track_info_endpoint = f\"https://api.spotify.com/v1/audio-features?ids={x}\"\n",
    "    response =requests.get(get_track_info_endpoint, \n",
    "                   headers={\"Content-Type\":\"application/json\", \n",
    "                            \"Authorization\": f\"Bearer {access_token}\"})\n",
    "    df = df.append(pd.DataFrame(response.json()['audio_features'],columns=('id','uri','acousticness','danceability',\\\n",
    "                                                             'energy','instrumentalness','duration_ms','key','liveness','loudness','mode',\\\n",
    "                                                             'speechiness','tempo','time_signature')))\n",
    "    p_count_l += 99\n",
    "    \n",
    "\n",
    "df = df.reset_index(drop=True)\n",
    "    \n",
    "print(df)\n",
    "    #for i in response.json():\n",
    "            #acoustics.append(i)\n",
    "    \n",
    "    #dflist.append([track_id,track_uri,acoustics])\n",
    "#df = pd.DataFrame(dflist)\n",
    "#print(df)"
   ]
  },
  {
   "cell_type": "code",
   "execution_count": null,
   "id": "603313ee",
   "metadata": {},
   "outputs": [],
   "source": [
    "#create 3 different dataframes based on certain conditions among the songs in the dataframe\n",
    "\n",
    "#drive \n",
    "df_drive = df[(df['tempo'] >= 60) & (df['tempo'] < 90)]\n",
    "print(len(df_drive))\n",
    "\n",
    "# chill\n",
    "df_chill = df[(df['tempo'] >= 90) & (df['tempo'] <= 130) & (df['energy'] >= 0.3) & (df['energy'] <= 0.6)]\n",
    "print(len(df_chill))\n",
    "\n",
    "# hype\n",
    "df_hype = df[(df['tempo'] > 130) & (df['danceability'] >= 0.35) & (df['danceability'] <= 0.8)]\n",
    "print(len(df_hype))\n",
    "\n",
    "playlist_descriptors = [('drive','for driving at night'), ('chill','study hard >:)'), ('hype','work out grind')]\n",
    "playlist_dfs = [df_drive,df_chill,df_hype]"
   ]
  },
  {
   "cell_type": "code",
   "execution_count": null,
   "id": "express-strategy",
   "metadata": {},
   "outputs": [],
   "source": [
    "#create 3 different playlists using the 3 different descriptors\n",
    "\n",
    "user_id = \"e0fu1tvd4el2atkqmvlc2m6br\"\n",
    "create_playlist_endpoint = f\"https://api.spotify.com/v1/users/{user_id}/playlists\"\n",
    "c_playlist_ids = {}\n",
    "playlist_counter = 0\n",
    "for name,desc in playlist_descriptors:\n",
    "    request_body = json.dumps({\n",
    "              \"name\": name,\n",
    "              \"description\": desc,\n",
    "              \"public\": False \n",
    "            })\n",
    "    response = requests.post(url = create_playlist_endpoint, data = request_body, headers={\"Content-Type\":\"application/json\", \n",
    "                            \"Authorization\": f\"Bearer {access_token}\"})\n",
    "    c_playlist_ids[response.json()['id']] = playlist_dfs[playlist_counter]\n",
    "    playlist_counter +=1\n"
   ]
  },
  {
   "cell_type": "code",
   "execution_count": null,
   "id": "c1e88ae3",
   "metadata": {},
   "outputs": [],
   "source": [
    "print(c_playlist_ids.keys())"
   ]
  },
  {
   "cell_type": "code",
   "execution_count": null,
   "id": "demographic-berkeley",
   "metadata": {},
   "outputs": [],
   "source": [
    "#load playlists with the 3 different dataframes\n",
    "for c_playlist_id in c_playlist_ids:\n",
    "    fill_playlist_endpoint = f\"https://api.spotify.com/v1/playlists/{c_playlist_id}/tracks\"\n",
    "    request_body = json.dumps({\n",
    "              \"uris\" : c_playlist_ids[c_playlist_id]['uri'].tolist()\n",
    "            })\n",
    "    response = requests.post(url = fill_playlist_endpoint, data = request_body, headers={\"Content-Type\":\"application/json\", \n",
    "                            \"Authorization\": f\"Bearer {access_token}\"})\n"
   ]
  },
  {
   "cell_type": "code",
   "execution_count": null,
   "id": "stock-bernard",
   "metadata": {},
   "outputs": [],
   "source": []
  }
 ],
 "metadata": {
  "kernelspec": {
   "display_name": "Python 3 (ipykernel)",
   "language": "python",
   "name": "python3"
  },
  "language_info": {
   "codemirror_mode": {
    "name": "ipython",
    "version": 3
   },
   "file_extension": ".py",
   "mimetype": "text/x-python",
   "name": "python",
   "nbconvert_exporter": "python",
   "pygments_lexer": "ipython3",
   "version": "3.9.7"
  }
 },
 "nbformat": 4,
 "nbformat_minor": 5
}
